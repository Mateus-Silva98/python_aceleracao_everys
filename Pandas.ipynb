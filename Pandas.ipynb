{
  "cells": [
    {
      "cell_type": "code",
      "execution_count": 11,
      "metadata": {
        "colab": {
          "base_uri": "https://localhost:8080/"
        },
        "id": "0udPnTfMeLt7",
        "outputId": "ec3aaf17-f77a-4bea-9bfd-f6376ad6f67c"
      },
      "outputs": [
        {
          "name": "stdout",
          "output_type": "stream",
          "text": [
            "        name  age        location\n",
            "0   Huguinho   28          Santos\n",
            "1  Student 1   18       São Paulo\n",
            "2  Student 2   32  Rio de Janeiro\n"
          ]
        }
      ],
      "source": [
        "import pandas as pd\n",
        "\n",
        "def createDataframe():\n",
        "\n",
        "  map = {\n",
        "      \"name\" : [\"Huguinho\", \"Mateus Silva\", \"Student 2\"],\n",
        "      \"age\" : [ 28, 18, 32 ],\n",
        "      \"location\" : [\"Santos\", \"São Paulo\", \"Rio de Janeiro\"]\n",
        "  }\n",
        "\n",
        "  df = pd.DataFrame( map );\n",
        "\n",
        "  print( df );\n",
        "\n",
        "createDataframe()"
      ]
    },
    {
      "cell_type": "code",
      "execution_count": 29,
      "metadata": {
        "colab": {
          "base_uri": "https://localhost:8080/"
        },
        "id": "KbG7DjtHfTt1",
        "outputId": "9017a231-5b8f-420c-fb7f-681e1ca3baeb"
      },
      "outputs": [
        {
          "name": "stdout",
          "output_type": "stream",
          "text": [
            "item Huguinho  | index 0\n",
            "item Student 1  | index 1\n",
            "item Student 2  | index 2\n"
          ]
        }
      ],
      "source": [
        "def iterateDataframe():\n",
        "\n",
        "  map = {\n",
        "      \"name\" : [\"Huguinho\", \"Student 1\", \"Student 2\"],\n",
        "      \"age\" : [ 28, 18, 32 ],\n",
        "      \"location\" : [\"Santos\", \"São Paulo\", \"Rio de Janeiro\"]\n",
        "  }\n",
        "\n",
        "  df = pd.DataFrame( map );\n",
        "\n",
        "  # não indicado para alto volume de dados ( somente para conhecimento )\n",
        "  for index in df.index:\n",
        "    print(\"item\", df[\"name\"][ index ], \" | index\", index  );\n",
        "\n",
        "iterateDataframe()"
      ]
    },
    {
      "cell_type": "code",
      "execution_count": 31,
      "metadata": {
        "colab": {
          "base_uri": "https://localhost:8080/"
        },
        "id": "AQBbcG-Jh66V",
        "outputId": "e8a60a72-29f7-4a8f-f1f5-14f4661952a7"
      },
      "outputs": [
        {
          "name": "stdout",
          "output_type": "stream",
          "text": [
            "        name  age        location         address\n",
            "0   Huguinho   28          Santos  Rua de teste 1\n",
            "1  Student 1   18       São Paulo  Rua de teste 2\n",
            "2  Student 2   32  Rio de Janeiro  Rua de teste 3\n"
          ]
        }
      ],
      "source": [
        "def addColumnDataframe():\n",
        "\n",
        "  map = {\n",
        "      \"name\" : [\"Huguinho\", \"Student 1\", \"Student 2\"],\n",
        "      \"age\" : [ 28, 18, 32 ],\n",
        "      \"location\" : [\"Santos\", \"São Paulo\", \"Rio de Janeiro\"]\n",
        "  }\n",
        "\n",
        "  df = pd.DataFrame( map );\n",
        "\n",
        "  # adicionando uma nova coluna\n",
        "  address = ['Rua de teste 1', 'Rua de teste 2', 'Rua de teste 3'];\n",
        "\n",
        "  df['address'] = address;\n",
        "\n",
        "  print( df )\n",
        "\n",
        "addColumnDataframe()"
      ]
    },
    {
      "cell_type": "code",
      "execution_count": 37,
      "metadata": {
        "colab": {
          "base_uri": "https://localhost:8080/"
        },
        "id": "0DYN8v00iQqM",
        "outputId": "7f02eb09-30aa-4140-a193-4040d2346a6c"
      },
      "outputs": [
        {
          "name": "stdout",
          "output_type": "stream",
          "text": [
            "        name  age        location\n",
            "0   Huguinho   28          Santos\n",
            "2  Student 2   32  Rio de Janeiro\n",
            "---------------------------\n",
            "        name        location\n",
            "0   Huguinho          Santos\n",
            "2  Student 2  Rio de Janeiro\n"
          ]
        }
      ],
      "source": [
        "def removeColumnDataframe():\n",
        "\n",
        "  map = {\n",
        "      \"name\" : [\"Huguinho\", \"Student 1\", \"Student 2\"],\n",
        "      \"age\" : [ 28, 18, 32 ],\n",
        "      \"location\" : [\"Santos\", \"São Paulo\", \"Rio de Janeiro\"]\n",
        "  }\n",
        "\n",
        "  df = pd.DataFrame( map );\n",
        "\n",
        "  # Removendo a linha pelo índice\n",
        "  df = df.drop(1)\n",
        "\n",
        "  print( df )\n",
        "\n",
        "  print(\"---------------------------\")\n",
        "\n",
        "  # Removendo a coluna\n",
        "  df = df.drop( columns=[\"age\"] );\n",
        "\n",
        "  print ( df );\n",
        "\n",
        "removeColumnDataframe()"
      ]
    },
    {
      "cell_type": "code",
      "execution_count": 42,
      "metadata": {
        "colab": {
          "base_uri": "https://localhost:8080/"
        },
        "id": "7eYEEfdOjksq",
        "outputId": "4c949280-4637-4798-f600-2afe372af906"
      },
      "outputs": [
        {
          "name": "stdout",
          "output_type": "stream",
          "text": [
            "        name  age        location\n",
            "0   Huguinho   28          Santos\n",
            "1  Student 1   18       São Paulo\n",
            "2  Student 2   32  Rio de Janeiro\n",
            "3  Student 3   17       São Paulo\n",
            "4  Student 4   14       São Paulo\n",
            "----------------------\n",
            "        name  age        location\n",
            "0   Huguinho   28          Santos\n",
            "1  Student 1   18       São Paulo\n",
            "2  Student 2   32  Rio de Janeiro\n"
          ]
        }
      ],
      "source": [
        "def filterDataframe():\n",
        "\n",
        "  map = {\n",
        "      \"name\" : [\"Huguinho\", \"Student 1\", \"Student 2\", \"Student 3\", \"Student 4\"],\n",
        "      \"age\" : [ 28, 18, 32, 17, 14 ],\n",
        "      \"location\" : [\"Santos\", \"São Paulo\", \"Rio de Janeiro\", \"São Paulo\", \"São Paulo\"]\n",
        "  }\n",
        "\n",
        "  df = pd.DataFrame( map );\n",
        "\n",
        "  # criando o filtro\n",
        "  filter = df[\"age\"] >= 18;\n",
        "\n",
        "  # Filtrando a lista\n",
        "  filteredList = df[ filter ];\n",
        "\n",
        "  print ( df );\n",
        "  print(\"----------------------\");\n",
        "  print( filteredList )\n",
        "\n",
        "filterDataframe()"
      ]
    },
    {
      "cell_type": "code",
      "execution_count": 54,
      "metadata": {
        "colab": {
          "base_uri": "https://localhost:8080/"
        },
        "id": "k7mFnp0jkpd9",
        "outputId": "2625f8ab-ac8c-4dfa-f1fb-10dca3bbfe8f"
      },
      "outputs": [
        {
          "name": "stdout",
          "output_type": "stream",
          "text": [
            "original dataframe\n",
            "        name  age        location\n",
            "0   Huguinho   28          santos\n",
            "1  Student 1   18       são Paulo\n",
            "2  Student 2   32  rio de Janeiro\n",
            "3  Student 3   17       são Paulo\n",
            "4  Student 4   14       São Paulo\n",
            "-------------------------------------------\n",
            "\n",
            "Upper case\n",
            "0            SANTOS\n",
            "1         SÃO PAULO\n",
            "2    RIO DE JANEIRO\n",
            "3         SÃO PAULO\n",
            "4         SÃO PAULO\n",
            "Name: location, dtype: object\n",
            "--------------------------------------------\n",
            "\n",
            "Upper in dataframe\n",
            "        name  age        location\n",
            "0   Huguinho   28          SANTOS\n",
            "1  Student 1   18       SÃO PAULO\n",
            "2  Student 2   32  RIO DE JANEIRO\n",
            "3  Student 3   17       SÃO PAULO\n",
            "4  Student 4   14       SÃO PAULO\n",
            "------------------------------------------\n",
            "\n",
            "Capitalize\n",
            "        name  age        location\n",
            "0   Huguinho   28          Santos\n",
            "1  Student 1   18       São paulo\n",
            "2  Student 2   32  Rio de janeiro\n",
            "3  Student 3   17       São paulo\n",
            "4  Student 4   14       São paulo\n",
            "------------------------------------------\n",
            "\n",
            "Title\n",
            "        name  age        location\n",
            "0   Huguinho   28          Santos\n",
            "1  Student 1   18       São Paulo\n",
            "2  Student 2   32  Rio De Janeiro\n",
            "3  Student 3   17       São Paulo\n",
            "4  Student 4   14       São Paulo\n",
            "------------------------------------------\n"
          ]
        }
      ],
      "source": [
        "def stringDataframe():\n",
        "\n",
        "  map = {\n",
        "      \"name\" : [\"Huguinho\", \"Student 1\", \"Student 2\", \"Student 3\", \"Student 4\"],\n",
        "      \"age\" : [ 28, 18, 32, 17, 14 ],\n",
        "      \"location\" : [\"santos\", \"são Paulo\", \"rio de Janeiro\", \"são Paulo\", \"São Paulo\"]\n",
        "  }\n",
        "\n",
        "  df = pd.DataFrame( map );\n",
        "\n",
        "\n",
        "  print(\"original dataframe\")\n",
        "  print ( df );\n",
        "  print(\"-------------------------------------------\");\n",
        "\n",
        "  # maiúscula\n",
        "  print()\n",
        "  print(\"Upper case\")\n",
        "  print( df[\"location\"].str.upper() )\n",
        "  print(\"--------------------------------------------\");\n",
        "\n",
        "  print()\n",
        "  print(\"Upper in dataframe\")\n",
        "  df[\"location\"] = df[\"location\"].str.upper()\n",
        "  print( df );\n",
        "  print(\"------------------------------------------\");\n",
        "\n",
        "  # Somente a primeira maiuscula\n",
        "  print()\n",
        "  print(\"Capitalize\")\n",
        "  df[\"location\"] = df[\"location\"].str.capitalize()\n",
        "  print( df );\n",
        "  print(\"------------------------------------------\");\n",
        "\n",
        "  # Somente a primeira de cada palavra\n",
        "  print()\n",
        "  print(\"Title\")\n",
        "  df[\"location\"] = df[\"location\"].str.title()\n",
        "  print( df );\n",
        "  print(\"------------------------------------------\");\n",
        "\n",
        "stringDataframe()"
      ]
    },
    {
      "cell_type": "code",
      "execution_count": 56,
      "metadata": {
        "colab": {
          "base_uri": "https://localhost:8080/"
        },
        "id": "A7Oe8JlhmV25",
        "outputId": "1e9b71d6-fb99-4eff-9a0a-2173d4d9161a"
      },
      "outputs": [
        {
          "name": "stdout",
          "output_type": "stream",
          "text": [
            "        name  idade     localizacao\n",
            "0   Huguinho     28          Santos\n",
            "1  Student 1     18       São Paulo\n",
            "2  Student 2     32  Rio de Janeiro\n",
            "3  Student 3     17       São Paulo\n",
            "4  Student 4     14       São Paulo\n",
            "----------------------\n"
          ]
        }
      ],
      "source": [
        "def renameDataframe():\n",
        "\n",
        "  map = {\n",
        "      \"name\" : [\"Huguinho\", \"Student 1\", \"Student 2\", \"Student 3\", \"Student 4\"],\n",
        "      \"age\" : [ 28, 18, 32, 17, 14 ],\n",
        "      \"location\" : [\"Santos\", \"São Paulo\", \"Rio de Janeiro\", \"São Paulo\", \"São Paulo\"]\n",
        "  }\n",
        "\n",
        "  df = pd.DataFrame( map );\n",
        "\n",
        "  # renomeando\n",
        "  df = df.rename(columns={\"age\": \"idade\", \"location\": \"localizacao\"})\n",
        "\n",
        "  print ( df );\n",
        "  print(\"----------------------\");\n",
        "\n",
        "renameDataframe()"
      ]
    },
    {
      "cell_type": "code",
      "execution_count": 59,
      "metadata": {
        "colab": {
          "base_uri": "https://localhost:8080/"
        },
        "id": "7uwJmQ8Gm3LM",
        "outputId": "dafc7fed-a906-4b16-bdb2-9c8ad72c1e03"
      },
      "outputs": [
        {
          "name": "stdout",
          "output_type": "stream",
          "text": [
            "        name  age\n",
            "0   Huguinho   28\n",
            "1  Student 1   18\n",
            "2  Student 2   32\n",
            "3  Student 3   17\n",
            "4  Student 4   14\n",
            "----------------------\n",
            "[{\"name\":\"Huguinho\",\"age\":28},{\"name\":\"Student 1\",\"age\":18},{\"name\":\"Student 2\",\"age\":32},{\"name\":\"Student 3\",\"age\":17},{\"name\":\"Student 4\",\"age\":14}]\n"
          ]
        }
      ],
      "source": [
        "def jsonDataframe():\n",
        "\n",
        "  map = {\n",
        "      \"name\" : [\"Huguinho\", \"Student 1\", \"Student 2\", \"Student 3\", \"Student 4\"],\n",
        "      \"age\" : [ 28, 18, 32, 17, 14 ]\n",
        "  }\n",
        "\n",
        "  df = pd.DataFrame( map );\n",
        "\n",
        "  # json\n",
        "  json = df.to_json(orient=\"records\")\n",
        "\n",
        "  print ( df );\n",
        "  print(\"----------------------\");\n",
        "  print( json )\n",
        "\n",
        "jsonDataframe()"
      ]
    },
    {
      "cell_type": "code",
      "execution_count": 62,
      "metadata": {
        "colab": {
          "base_uri": "https://localhost:8080/"
        },
        "id": "HV35OdhloUZa",
        "outputId": "8d63ad54-4cd8-49de-a2d1-daca6cbc6dd8"
      },
      "outputs": [
        {
          "name": "stdout",
          "output_type": "stream",
          "text": [
            "       name                title\n",
            "0  Huguinho  Expert IT Architect\n",
            "1  Student1              student\n",
            "2  Student2              student\n"
          ]
        }
      ],
      "source": [
        "def readCsv():\n",
        "  url = \"https://raw.githubusercontent.com/huguinho-alves/python_aceleracao_everys/main/arquivo.csv\"\n",
        "  df = pd.read_csv( url )\n",
        "\n",
        "  print( df )\n",
        "\n",
        "readCsv()"
      ]
    },
    {
      "cell_type": "code",
      "execution_count": null,
      "metadata": {
        "id": "5gWD9PeUtnw2"
      },
      "outputs": [],
      "source": []
    }
  ],
  "metadata": {
    "colab": {
      "collapsed_sections": [],
      "name": "Pandas.ipynb",
      "provenance": []
    },
    "kernelspec": {
      "display_name": "Python 3",
      "name": "python3"
    }
  },
  "nbformat": 4,
  "nbformat_minor": 0
}
