{
  "cells": [
    {
      "cell_type": "code",
      "execution_count": null,
      "metadata": {
        "colab": {
          "base_uri": "https://localhost:8080/"
        },
        "id": "JIM949C883Zb",
        "outputId": "aafeae39-adc1-47a5-f9df-c113f3349144"
      },
      "outputs": [
        {
          "name": "stdout",
          "output_type": "stream",
          "text": [
            "Aceleração Gloval #4 - Everis\n"
          ]
        }
      ],
      "source": [
        "def helloWorld():\n",
        "  name = 'Aceleração Gloval #4 - Everis- Mateus Silva'\n",
        "  print( name )\n",
        "\n",
        "helloWorld()"
      ]
    },
    {
      "cell_type": "code",
      "execution_count": null,
      "metadata": {
        "colab": {
          "base_uri": "https://localhost:8080/"
        },
        "id": "z0WtFt2M90IF",
        "outputId": "908aaba0-b37a-42d9-a080-f9774cc0aa06"
      },
      "outputs": [
        {
          "name": "stdout",
          "output_type": "stream",
          "text": [
            "Beleza, pode entrar na balada\n"
          ]
        }
      ],
      "source": [
        "def calcBalada( age ):\n",
        "  \n",
        "  if( age > 17 ): #Mudando idade\n",
        "    print('Beleza, pode entrar na balada');\n",
        "  else:\n",
        "    print('Vaza, volta quando estiver mais velho !');\n",
        "\n",
        "calcBalada( 28 )"
      ]
    },
    {
      "cell_type": "code",
      "execution_count": 1,
      "metadata": {
        "colab": {
          "base_uri": "https://localhost:8080/"
        },
        "id": "z28FOnV4-jz7",
        "outputId": "d7a40703-f0d0-4b03-b89c-9716c0b59987"
      },
      "outputs": [
        {
          "name": "stdout",
          "output_type": "stream",
          "text": [
            " Aceleração global - Huguinho\n",
            " Aceleração global - John\n",
            " Aceleração global - John 2\n",
            " Aceleração global - Mateus\n"
          ]
        }
      ],
      "source": [
        "def forExample():\n",
        "  \n",
        "  # Definindo o array\n",
        "  names = ['Huguinho', 'John', 'John 2', 'Mateus'];\n",
        "\n",
        "  for name in names:\n",
        "    print( ' Aceleração global - ' + name )\n",
        "\n",
        "# Invocando a função\n",
        "forExample()"
      ]
    },
    {
      "cell_type": "code",
      "execution_count": null,
      "metadata": {
        "colab": {
          "base_uri": "https://localhost:8080/"
        },
        "id": "ixfL6dX8_2yl",
        "outputId": "e5ad51b6-3a9f-4f1b-9def-c883060a5433"
      },
      "outputs": [
        {
          "name": "stdout",
          "output_type": "stream",
          "text": [
            "key name  | value Huguinho\n",
            "key title  | value Expert IT Techonology\n"
          ]
        }
      ],
      "source": [
        "def mapExample():\n",
        "\n",
        "  person1 = {\n",
        "      'name' : 'Mateus Silva',\n",
        "      'title' : 'Expert IT Techonology'\n",
        "  };\n",
        "\n",
        "  for key in person1:\n",
        "    print('key', key, ' | value', person1[ key ] )\n",
        "\n",
        "mapExample()"
      ]
    },
    {
      "cell_type": "code",
      "execution_count": null,
      "metadata": {
        "colab": {
          "base_uri": "https://localhost:8080/"
        },
        "id": "F9m5sYFVAik2",
        "outputId": "0578deaa-dd41-4a97-b3fe-5ea3eeaa2ce9"
      },
      "outputs": [
        {
          "name": "stdout",
          "output_type": "stream",
          "text": [
            "tamanho do array 2\n",
            "Nome:  Huguinho  | title:  Expert IT Techonology\n",
            "Nome:  User 2  | title:  Student from everis Aceleration\n"
          ]
        }
      ],
      "source": [
        "def forWithMap():\n",
        "\n",
        "  person1 = {\n",
        "      'name' : 'Mateus Silva',\n",
        "      'title' : 'Expert IT Techonology'\n",
        "  };\n",
        "\n",
        "  person2 = {\n",
        "      'name' : 'User 2',\n",
        "      'title' : 'Student from everis Aceleration'\n",
        "  };\n",
        "\n",
        "  lista = [];\n",
        "  lista.append( person1 );\n",
        "  lista.append( person2 );\n",
        "\n",
        "  print('tamanho do array', len( lista ) );\n",
        "\n",
        "  for obj in lista:\n",
        "    print('Nome: ', obj['name'], ' | title: ', obj['title'] );\n",
        "\n",
        "forWithMap();"
      ]
    }
  ],
  "metadata": {
    "colab": {
      "collapsed_sections": [],
      "name": "everis- aceleracao.ipynb",
      "provenance": []
    },
    "interpreter": {
      "hash": "446c25c59a211ff046b8ebd4fe280116626669e53a549373097358aebbf48c89"
    },
    "kernelspec": {
      "display_name": "Python 3.9.7 64-bit",
      "name": "python3"
    },
    "language_info": {
      "codemirror_mode": {
        "name": "ipython",
        "version": 3
      },
      "file_extension": ".py",
      "mimetype": "text/x-python",
      "name": "python",
      "nbconvert_exporter": "python",
      "pygments_lexer": "ipython3",
      "version": "3.9.7"
    }
  },
  "nbformat": 4,
  "nbformat_minor": 0
}
